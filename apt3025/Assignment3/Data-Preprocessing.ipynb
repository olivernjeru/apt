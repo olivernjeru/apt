{
 "cells": [
  {
   "cell_type": "markdown",
   "metadata": {},
   "source": [
    "# Data Preprocessing"
   ]
  },
  {
   "attachments": {},
   "cell_type": "markdown",
   "metadata": {},
   "source": [
    "This is an individual assignment. \n",
    "\n",
    "You are to use the attached diabetes dataset to train and evaluate any classifier for predicting the outcome (0 or 1). \n",
    "\n",
    "Before training, perform two transformations on the data:\n",
    "\n",
    "    - Fill in the missing values. These will be zeros where a zero does not make sense. Research how to convert a zero into a NaN and then fill in the NaNs with the median value as in the lecture notes.\n",
    "    \n",
    "    - Standardize the data."
   ]
  }
 ],
 "metadata": {
  "language_info": {
   "name": "python"
  },
  "orig_nbformat": 4
 },
 "nbformat": 4,
 "nbformat_minor": 2
}
