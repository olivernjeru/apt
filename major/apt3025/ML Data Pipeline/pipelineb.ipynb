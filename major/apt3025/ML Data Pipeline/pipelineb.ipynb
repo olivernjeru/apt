{
 "cells": [
  {
   "cell_type": "code",
   "execution_count": 3,
   "id": "0b82fc0b",
   "metadata": {},
   "outputs": [],
   "source": [
    "from sklearn.datasets import load_breast_cancer\n",
    "from sklearn.model_selection import train_test_split\n",
    "from sklearn.preprocessing import StandardScaler\n",
    "from sklearn.decomposition import PCA, TruncatedSVD\n",
    "from sklearn.linear_model import LogisticRegression"
   ]
  },
  {
   "cell_type": "code",
   "execution_count": 4,
   "id": "9eddbcea",
   "metadata": {},
   "outputs": [],
   "source": [
    "X, y = load_breast_cancer(return_X_y=True, as_frame=True)"
   ]
  },
  {
   "cell_type": "code",
   "execution_count": 6,
   "id": "2bcb1bd5",
   "metadata": {},
   "outputs": [],
   "source": [
    "X_train, X_test, y_train, y_test = train_test_split(X, y, random_state=1234)"
   ]
  },
  {
   "cell_type": "code",
   "execution_count": 5,
   "id": "467fff17",
   "metadata": {},
   "outputs": [],
   "source": [
    "scaler = StandardScaler()\n",
    "pca = PCA()\n",
    "svd = TruncatedSVD(n_components=2)\n",
    "logreg = LogisticRegression()"
   ]
  },
  {
   "cell_type": "code",
   "execution_count": 7,
   "id": "d2167127",
   "metadata": {},
   "outputs": [],
   "source": [
    "X_train_tr = scaler.fit_transform(X_train)\n",
    "X_test_tr = scaler.transform(X_test)\n",
    "X_train_tr = pca.fit_transform(X_train_tr)\n",
    "X_test_tr = pca.transform(X_test_tr)\n",
    "X_train_tr = svd.fit_transform(X_train_tr)\n",
    "X_test_tr = svd.transform(X_test_tr)"
   ]
  },
  {
   "cell_type": "code",
   "execution_count": 9,
   "id": "24c7b5e8",
   "metadata": {},
   "outputs": [
    {
     "name": "stdout",
     "output_type": "stream",
     "text": [
      "Test score: 0.9090909090909091\n"
     ]
    }
   ],
   "source": [
    "logreg.fit(X_train_tr, y_train)\n",
    "print('Test score:', logreg.score(X_test_tr, y_test))"
   ]
  },
  {
   "cell_type": "markdown",
   "id": "c5d0f81d",
   "metadata": {},
   "source": [
    "## Transformations using a pipeline (the right way)"
   ]
  },
  {
   "cell_type": "code",
   "execution_count": 10,
   "id": "915aafd9",
   "metadata": {},
   "outputs": [],
   "source": [
    "from sklearn.pipeline import Pipeline, FeatureUnion"
   ]
  },
  {
   "cell_type": "code",
   "execution_count": 11,
   "id": "552a4c5e",
   "metadata": {},
   "outputs": [],
   "source": [
    "union = FeatureUnion([('pca', PCA(n_components=1)),\n",
    "('svd', TruncatedSVD(n_components=2))])"
   ]
  },
  {
   "cell_type": "code",
   "execution_count": 14,
   "id": "2f50daa9",
   "metadata": {},
   "outputs": [],
   "source": [
    "pipe = Pipeline(\n",
    "    [('scaler', StandardScaler()),\n",
    "     ('reduce_dim', union),\n",
    "     ('classifier', LogisticRegression())]\n",
    ")"
   ]
  },
  {
   "cell_type": "code",
   "execution_count": 15,
   "id": "743a7614",
   "metadata": {},
   "outputs": [
    {
     "name": "stdout",
     "output_type": "stream",
     "text": [
      "Test score: 0.9090909090909091\n"
     ]
    }
   ],
   "source": [
    "pipe.fit(X_train, y_train)\n",
    "print(\"Test score:\", pipe.score(X_test, y_test))"
   ]
  },
  {
   "cell_type": "code",
   "execution_count": 16,
   "id": "8f2d7926",
   "metadata": {},
   "outputs": [
    {
     "name": "stdout",
     "output_type": "stream",
     "text": [
      "Train score: 0.9553990610328639\n"
     ]
    }
   ],
   "source": [
    "print(\"Train score:\", pipe.score(X_train, y_train))"
   ]
  },
  {
   "cell_type": "code",
   "execution_count": null,
   "id": "d5c16336",
   "metadata": {},
   "outputs": [],
   "source": []
  }
 ],
 "metadata": {
  "kernelspec": {
   "display_name": "Python 3",
   "language": "python",
   "name": "python3"
  },
  "language_info": {
   "codemirror_mode": {
    "name": "ipython",
    "version": 3
   },
   "file_extension": ".py",
   "mimetype": "text/x-python",
   "name": "python",
   "nbconvert_exporter": "python",
   "pygments_lexer": "ipython3",
   "version": "3.9.4"
  }
 },
 "nbformat": 4,
 "nbformat_minor": 5
}
